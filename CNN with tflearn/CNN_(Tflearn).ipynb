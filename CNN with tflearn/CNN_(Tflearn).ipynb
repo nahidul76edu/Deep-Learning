{
  "nbformat": 4,
  "nbformat_minor": 0,
  "metadata": {
    "colab": {
      "name": "CNN (Tflearn).ipynb",
      "provenance": [],
      "collapsed_sections": []
    },
    "kernelspec": {
      "name": "python3",
      "display_name": "Python 3"
    },
    "language_info": {
      "name": "python"
    }
  },
  "cells": [
    {
      "cell_type": "code",
      "metadata": {
        "id": "zRm-kHpFxbg0"
      },
      "source": [
        "import numpy as np\n",
        " \n",
        "IMG_SIZE_W = 224\n",
        "IMG_SIZE_H = 224\n",
        "LR = 1e-3\n",
        " \n",
        "training_data = np.load('data_with_label.npy',allow_pickle=True)\n",
        "x_train=np.array([i[0] for i in training_data]).reshape(-1,IMG_SIZE_W,IMG_SIZE_H ,1)\n",
        "y_train=np.array([i[1] for i in training_data]).reshape(-1,1)\n",
        "x_train=x_train/255\n",
        " \n",
        "testing_data = np.load('data_with_label.npy',allow_pickle=True)\n",
        "x_test=np.array([i[0] for i in testing_data]).reshape(-1,IMG_SIZE_W,IMG_SIZE_H,1)\n",
        "y_test=np.array([i[1] for i in testing_data]).reshape(-1,1)\n",
        "x_test=x_test/255\n",
        " \n",
        "MODEL_NAME = 'anyname-{}-{}.model'.format(LR, '2conv-basic') # just so we remember which saved model is which, sizes must match\n",
        " \n",
        " \n",
        "import tflearn\n",
        "from tflearn.layers.conv import conv_2d, max_pool_2d\n",
        "from tflearn.layers.core import input_data, dropout, fully_connected\n",
        "from tflearn.layers.estimator import regression\n",
        "import tensorflow as tf\n",
        "tf.reset_default_graph()\n",
        " \n",
        " \n",
        "convnet = input_data(shape=[None, IMG_SIZE_W, IMG_SIZE_H, 1], name='input')\n",
        " \n",
        "convnet = conv_2d(convnet, 256, 4, activation='relu')\n",
        "convnet = max_pool_2d(convnet, 4)\n",
        " \n",
        "convnet = conv_2d(convnet, 128, 4, activation='relu')\n",
        "convnet = max_pool_2d(convnet, 4)\n",
        " \n",
        "convnet = conv_2d(convnet, 64, 4, activation='relu')\n",
        "convnet = max_pool_2d(convnet, 4)\n",
        " \n",
        "convnet = conv_2d(convnet, 32, 4, activation='relu')\n",
        "convnet = max_pool_2d(convnet, 4)\n",
        " \n",
        "convnet = conv_2d(convnet, 16, 4, activation='relu')\n",
        "convnet = max_pool_2d(convnet, 4)\n",
        " \n",
        " \n",
        "convnet = fully_connected(convnet, 128, activation='relu')\n",
        "convnet = dropout(convnet, 0.5)\n",
        " \n",
        "convnet = fully_connected(convnet, 1, activation='sigmoid')\n",
        "convnet = regression(convnet, optimizer='adam', learning_rate=LR, loss='categorical_crossentropy', name='targets')\n",
        " \n",
        "model = tflearn.DNN(convnet, tensorboard_dir='log')\n",
        " \n",
        " \n",
        " \n",
        "model.fit({'input': x_train}, {'targets': y_train}, n_epoch=30, validation_set=({'input': x_test}, {'targets': y_test}),\n",
        "          snapshot_step=500, show_metric=True, run_id=MODEL_NAME)\n",
        " \n",
        "model.save(MODEL_NAME)"
      ],
      "execution_count": null,
      "outputs": []
    }
  ]
}