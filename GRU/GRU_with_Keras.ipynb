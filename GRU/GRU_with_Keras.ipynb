{
  "nbformat": 4,
  "nbformat_minor": 0,
  "metadata": {
    "colab": {
      "name": "GRU with Keras.ipynb",
      "provenance": [],
      "collapsed_sections": []
    },
    "kernelspec": {
      "name": "python3",
      "display_name": "Python 3"
    },
    "language_info": {
      "name": "python"
    }
  },
  "cells": [
    {
      "cell_type": "code",
      "metadata": {
        "id": "wrszJmSoNUKG"
      },
      "source": [
        "import numpy as np\n",
        "from keras.models import Sequential\n",
        "from keras.models import Model\n",
        "from keras.layers import Input, Dense, LSTM, Dropout, GRU, Conv2D, MaxPooling2D, Flatten, Activation\n",
        "from keras.layers.wrappers import TimeDistributed\n",
        "from keras.optimizers import SGD"
      ],
      "execution_count": null,
      "outputs": []
    },
    {
      "cell_type": "code",
      "metadata": {
        "id": "cbNYUUNfNaam"
      },
      "source": [
        "training_data = np.load('data_with_label.npy', allow_pickle=True)\n",
        "x_train=np.array([i[0] for i in training_data]).reshape(-1,224,672)\n",
        "y_train=np.array([i[1] for i in training_data])\n",
        "x_train=x_train/255\n",
        "  \n",
        "testing_data = np.load('data_with_label.npy', allow_pickle=True)\n",
        "x_test=np.array([i[0] for i in testing_data]).reshape(-1,224,672)\n",
        "y_test=np.array([i[1] for i in testing_data])\n",
        "x_test=x_test/255"
      ],
      "execution_count": null,
      "outputs": []
    },
    {
      "cell_type": "code",
      "metadata": {
        "id": "hX8s7mwGNadt"
      },
      "source": [
        "# The GRU architecture\n",
        "model = Sequential()\n",
        "# First GRU layer with Dropout regularisation\n",
        "model.add(GRU(units=50, return_sequences=True, input_shape=(224,672), activation='tanh'))\n",
        "model.add(Dropout(0.2))\n",
        "# Second GRU layer\n",
        "model.add(GRU(units=50, return_sequences=True, activation='tanh'))\n",
        "model.add(Dropout(0.2))\n",
        "# Third GRU layer\n",
        "model.add(GRU(units=50, return_sequences=True, activation='tanh'))\n",
        "model.add(Dropout(0.2))\n",
        "# Fourth GRU layer\n",
        "model.add(GRU(units=50, activation='tanh'))\n",
        "model.add(Dropout(0.2))\n",
        "# The output layer\n",
        "model.add(Dense(units=10))\n",
        "# Compiling the RNN\n",
        "model.compile(optimizer=SGD(lr=0.01, decay=1e-7, momentum=0.9, nesterov=False),loss='mean_squared_error',metrics=['accuracy'])\n",
        "# Fitting to the training set\n",
        "model.fit(x_train,y_train,epochs=500,batch_size=150, validation_data=(x_test, y_test))"
      ],
      "execution_count": null,
      "outputs": []
    }
  ]
}