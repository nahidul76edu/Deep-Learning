{
  "nbformat": 4,
  "nbformat_minor": 0,
  "metadata": {
    "colab": {
      "name": "LSTM.ipynb",
      "provenance": [],
      "collapsed_sections": []
    },
    "kernelspec": {
      "name": "python3",
      "display_name": "Python 3"
    },
    "language_info": {
      "name": "python"
    }
  },
  "cells": [
    {
      "cell_type": "code",
      "metadata": {
        "id": "9HurRYaHo5SX"
      },
      "source": [
        "import numpy as np\n",
        "from keras.models import Sequential\n",
        "from keras.layers import Dense, LSTM"
      ],
      "execution_count": null,
      "outputs": []
    },
    {
      "cell_type": "code",
      "metadata": {
        "id": "AOv8S33qo-VU"
      },
      "source": [
        "training_data = np.load('data_with_label.npy', allow_pickle=True)\n",
        "x_train=np.array([i[0] for i in training_data]).reshape(-1,224,672)\n",
        "y_train=np.array([i[1] for i in training_data])\n",
        "x_train=x_train/255\n",
        " \n",
        "testing_data = np.load('data_with_label.npy', allow_pickle=True)\n",
        "x_test=np.array([i[0] for i in testing_data]).reshape(-1,224,672)\n",
        "y_test=np.array([i[1] for i in testing_data])\n",
        "x_test=x_test/255"
      ],
      "execution_count": null,
      "outputs": []
    },
    {
      "cell_type": "code",
      "metadata": {
        "id": "DpNx4SaopAUi"
      },
      "source": [
        "model = Sequential()\n",
        "model.add(LSTM(1024, activation='relu', return_sequences=True, input_shape=(224,672)))\n",
        "model.add(LSTM(512, activation='relu', return_sequences=True))\n",
        "model.add(LSTM(256, activation='relu', return_sequences=True))\n",
        "model.add(LSTM(128, activation='relu'))\n",
        "model.add(Dense(64, activation='relu'))\n",
        "model.add(Dense(10))"
      ],
      "execution_count": null,
      "outputs": []
    },
    {
      "cell_type": "code",
      "metadata": {
        "id": "vRpKUtETo-dE"
      },
      "source": [
        "model.compile(optimizer='adam', loss='categorical_crossentropy', metrics=['accuracy'])\n",
        "history = model.fit(x_train, y_train, epochs=50, validation_data=(x_test, y_test))"
      ],
      "execution_count": null,
      "outputs": []
    }
  ]
}